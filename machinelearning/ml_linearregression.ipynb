{
 "cells": [
  {
   "cell_type": "code",
   "execution_count": 12,
   "id": "779ebb72",
   "metadata": {},
   "outputs": [
    {
     "name": "stdout",
     "output_type": "stream",
     "text": [
      "[7 5 3 1]           3.7618815953089006          0\n",
      "[8 9 2 0]           8.341176522410619          10\n",
      "[14 15  1  0]           15.379289027309149          16\n",
      "[14 16  3  0]           15.90113867878453          16\n",
      "[13 14  1  0]           14.243964664584729          13\n",
      "[11 11  2  0]           10.772967302004524          11\n",
      "[7 0 3 0]           -0.8137726375007107          0\n",
      "[7 8 2 3]           6.320080229424568          10\n",
      "[11 11  4  0]           10.320634644900538          10\n",
      "[6 0 1 0]           -0.5225820345417856          0\n",
      "[14 12  2  0]           12.230575773019066          11\n",
      "[15 14  3  0]           14.113916115770863          15\n",
      "[16 15  2  0]           15.475406807047278          15\n",
      "[8 7 2 0]           6.392811905251889          6\n",
      "[9 9 1 0]           8.72848490510767          10\n",
      "[10  9  2  0]           8.663460630700737          11\n",
      "[10 11  2  0]           10.611825247859464          12\n",
      "[12 12  1  0]           12.13445799328094          13\n",
      "[14 13  2  0]           13.204758081598431          13\n",
      "[12 12  4  0]           11.455959007624962          12\n",
      "[8 9 2 0]           8.341176522410619          8\n",
      "[8 0 1 0]           -0.20029792625166687          0\n",
      "[15 16  3  0]           16.06228073292959          15\n",
      "[8 7 2 0]           6.392811905251889          8\n",
      "[10 10  2  0]           9.637642939280102          11\n",
      "[10  9  4  0]           8.211127973596751          0\n",
      "[11 12  2  0]           11.747149610583888          11\n",
      "[5 5 2 0]           3.9610211256579833          5\n",
      "[13 11  2  0]           11.095251410294644          11\n",
      "[ 8 10  1  0]           9.541525159541974          10\n",
      "[15 14  3  2]           13.523401495596445          15\n",
      "[13 13  2  0]           13.043616027453371          12\n",
      "[8 9 2 0]           8.341176522410619          10\n",
      "[11 12  1  0]           11.97331593913588          11\n",
      "[7 9 3 0]           7.953868139713565          8\n",
      "[10  8  1  0]           7.915444650673365          11\n",
      "[8 8 2 0]           7.366994213831255          9\n",
      "[16 18  2  0]           18.39795373278537          19\n",
      "[14 16  1  0]           16.353471335888514          16\n",
      "[15 14  3  0]           14.113916115770863          14\n"
     ]
    }
   ],
   "source": [
    "import numpy as np\n",
    "import pandas as pd\n",
    "import sklearn\n",
    "from sklearn.model_selection import train_test_split\n",
    "from sklearn.linear_model import LinearRegression\n",
    "import pickle\n",
    "\n",
    "check = 0\n",
    "data = pd.read_csv('data.csv')\n",
    "data = data[['G1','G2','G3','studytime','failures']]\n",
    "    \n",
    "X = np.array(data.drop(['G3'], 1) )\n",
    "Y = np.array(data['G3'])\n",
    "x_train, x_test, y_train, y_test = train_test_split(X, Y, test_size = 0.1)    \n",
    "  \n",
    "#training    \n",
    "#for _ in range(10):\n",
    "#    x_train, x_test, y_train, y_test = train_test_split(X, Y, test_size = 0.1)\n",
    "#    linear = LinearRegression()\n",
    "#    linear.fit(x_train, y_train)\n",
    "#    \n",
    "#    accuracy = linear.score(x_test,y_test)\n",
    "#    print(accuracy)\n",
    "#    if check < accuracy:\n",
    "#        check = accuracy\n",
    "#        with open('grade.pickle', 'wb') as fh:\n",
    "#            pickle.dump(linear, fh)\n",
    "\n",
    "            \n",
    "load = open('grade.pickle', 'rb')\n",
    "linear = pickle.load(load)\n",
    "predict = linear.predict(x_test)\n",
    "for i in range(len(predict)):\n",
    "    print(x_test[i],'         ', predict[i], '        ' ,y_test[i])"
   ]
  },
  {
   "cell_type": "code",
   "execution_count": null,
   "id": "ef490ee3",
   "metadata": {},
   "outputs": [],
   "source": []
  }
 ],
 "metadata": {
  "kernelspec": {
   "display_name": "Python 3",
   "language": "python",
   "name": "python3"
  },
  "language_info": {
   "codemirror_mode": {
    "name": "ipython",
    "version": 3
   },
   "file_extension": ".py",
   "mimetype": "text/x-python",
   "name": "python",
   "nbconvert_exporter": "python",
   "pygments_lexer": "ipython3",
   "version": "3.8.0"
  }
 },
 "nbformat": 4,
 "nbformat_minor": 5
}
